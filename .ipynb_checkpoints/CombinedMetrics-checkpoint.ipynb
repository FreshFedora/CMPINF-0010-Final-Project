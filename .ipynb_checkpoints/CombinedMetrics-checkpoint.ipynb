{
 "cells": [
  {
   "cell_type": "markdown",
   "metadata": {},
   "source": [
    "Cole Swierczek, Samuel Houpt, Patrick Mckeever\n",
    "\n",
    "# The Best Neighborhood for Jaywalking in Pittsburgh\n",
    "\n",
    "## by Bits-burgh \n",
    "\n",
    "![Clearly a time-old tradition](jaywalking.PNG)\n",
    "\n",
    "## Intro\n",
    "\n",
    "Walking is one of the most popular modes of transit in the entire world. In an increasingly car-dependent society, people are ignoring pedestrian infrastructure, or often what little of it exists, and have resorted to walking across the street illegally. One could fix this by increasing pedestrian infrastructure, but until that happens, people are going to jaywalk. So, the question becomes \"whats the best place to do it?\"\n",
    "\n",
    "### Metrics\n",
    "\n",
    "We're using three sub-metrics to determine the best neighborhood in Pittsburgh for jaywalking:\n",
    "\n",
    "1. Traffic Data\n",
    "2. Walkability Scores\n",
    "3. Non-Traffic Citations\n"
   ]
  },
  {
   "cell_type": "markdown",
   "metadata": {},
   "source": [
    "# First Metric - Traffic Data by Neighborhood\n",
    "#### by Sam Houpt\n",
    "\n",
    "Dataset: https://data.wprdc.org/dataset/traffic-count-data-city-of-pittsburgh\n",
    "\n",
    "We will first load in the traffic count data from the .csv file."
   ]
  },
  {
   "cell_type": "code",
   "execution_count": 23,
   "metadata": {},
   "outputs": [
    {
     "data": {
      "text/html": [
       "<div>\n",
       "<style scoped>\n",
       "    .dataframe tbody tr th:only-of-type {\n",
       "        vertical-align: middle;\n",
       "    }\n",
       "\n",
       "    .dataframe tbody tr th {\n",
       "        vertical-align: top;\n",
       "    }\n",
       "\n",
       "    .dataframe thead th {\n",
       "        text-align: right;\n",
       "    }\n",
       "</style>\n",
       "<table border=\"1\" class=\"dataframe\">\n",
       "  <thead>\n",
       "    <tr style=\"text-align: right;\">\n",
       "      <th></th>\n",
       "      <th>id</th>\n",
       "      <th>device_id</th>\n",
       "      <th>record_oid</th>\n",
       "      <th>count_start_date</th>\n",
       "      <th>count_end_date</th>\n",
       "      <th>average_daily_car_traffic</th>\n",
       "      <th>average_daily_bike_traffic</th>\n",
       "      <th>counter_number</th>\n",
       "      <th>counter_type</th>\n",
       "      <th>speed_limit</th>\n",
       "      <th>...</th>\n",
       "      <th>latitude</th>\n",
       "      <th>neighborhood</th>\n",
       "      <th>council_district</th>\n",
       "      <th>ward</th>\n",
       "      <th>tract</th>\n",
       "      <th>public_works_division</th>\n",
       "      <th>pli_division</th>\n",
       "      <th>police_zone</th>\n",
       "      <th>fire_zone</th>\n",
       "      <th>geometry</th>\n",
       "    </tr>\n",
       "  </thead>\n",
       "  <tbody>\n",
       "    <tr>\n",
       "      <th>0</th>\n",
       "      <td>1011743669</td>\n",
       "      <td>85</td>\n",
       "      <td>1445865260</td>\n",
       "      <td>2019-04-18</td>\n",
       "      <td>2019-04-26</td>\n",
       "      <td>4949</td>\n",
       "      <td></td>\n",
       "      <td>6</td>\n",
       "      <td>StatTrak</td>\n",
       "      <td>25</td>\n",
       "      <td>...</td>\n",
       "      <td>40.45573295</td>\n",
       "      <td>Polish Hill</td>\n",
       "      <td>7</td>\n",
       "      <td>6</td>\n",
       "      <td>42003060500</td>\n",
       "      <td>6</td>\n",
       "      <td>6</td>\n",
       "      <td>2</td>\n",
       "      <td>2-6</td>\n",
       "      <td>None</td>\n",
       "    </tr>\n",
       "    <tr>\n",
       "      <th>1</th>\n",
       "      <td>1026101993</td>\n",
       "      <td>140</td>\n",
       "      <td>1121444006</td>\n",
       "      <td>2019-01-24</td>\n",
       "      <td></td>\n",
       "      <td></td>\n",
       "      <td></td>\n",
       "      <td></td>\n",
       "      <td>Intersection Study</td>\n",
       "      <td></td>\n",
       "      <td>...</td>\n",
       "      <td>40.46615676</td>\n",
       "      <td>Central Lawrenceville</td>\n",
       "      <td>7</td>\n",
       "      <td>9</td>\n",
       "      <td>42003090200</td>\n",
       "      <td>2</td>\n",
       "      <td>9</td>\n",
       "      <td>2</td>\n",
       "      <td>3-6</td>\n",
       "      <td>None</td>\n",
       "    </tr>\n",
       "    <tr>\n",
       "      <th>2</th>\n",
       "      <td>1032382575</td>\n",
       "      <td>11</td>\n",
       "      <td>1539892711</td>\n",
       "      <td>2018-08-28</td>\n",
       "      <td>2018-09-04</td>\n",
       "      <td></td>\n",
       "      <td></td>\n",
       "      <td></td>\n",
       "      <td></td>\n",
       "      <td>35</td>\n",
       "      <td>...</td>\n",
       "      <td>40.46071714</td>\n",
       "      <td>Windgap</td>\n",
       "      <td>2</td>\n",
       "      <td>28</td>\n",
       "      <td>42003563000</td>\n",
       "      <td>5</td>\n",
       "      <td>28</td>\n",
       "      <td>6</td>\n",
       "      <td>1-16</td>\n",
       "      <td>None</td>\n",
       "    </tr>\n",
       "    <tr>\n",
       "      <th>3</th>\n",
       "      <td>103627606</td>\n",
       "      <td>9</td>\n",
       "      <td>734195080</td>\n",
       "      <td>2018-07-17</td>\n",
       "      <td>2018-08-01</td>\n",
       "      <td>2741</td>\n",
       "      <td></td>\n",
       "      <td></td>\n",
       "      <td>StatTrak</td>\n",
       "      <td>25</td>\n",
       "      <td>...</td>\n",
       "      <td>40.43737854</td>\n",
       "      <td>Squirrel Hill South</td>\n",
       "      <td>5</td>\n",
       "      <td>14</td>\n",
       "      <td>42003140800</td>\n",
       "      <td>3</td>\n",
       "      <td>14</td>\n",
       "      <td>4</td>\n",
       "      <td>2-18</td>\n",
       "      <td>None</td>\n",
       "    </tr>\n",
       "    <tr>\n",
       "      <th>4</th>\n",
       "      <td>1039546167</td>\n",
       "      <td>144</td>\n",
       "      <td></td>\n",
       "      <td></td>\n",
       "      <td></td>\n",
       "      <td></td>\n",
       "      <td></td>\n",
       "      <td></td>\n",
       "      <td></td>\n",
       "      <td></td>\n",
       "      <td>...</td>\n",
       "      <td>40.49079426</td>\n",
       "      <td>Perry North</td>\n",
       "      <td>1</td>\n",
       "      <td>26</td>\n",
       "      <td>42003260200</td>\n",
       "      <td>1</td>\n",
       "      <td>26</td>\n",
       "      <td>1</td>\n",
       "      <td>1-15</td>\n",
       "      <td>None</td>\n",
       "    </tr>\n",
       "  </tbody>\n",
       "</table>\n",
       "<p>5 rows × 26 columns</p>\n",
       "</div>"
      ],
      "text/plain": [
       "           id device_id  record_oid count_start_date count_end_date  \\\n",
       "0  1011743669        85  1445865260       2019-04-18     2019-04-26   \n",
       "1  1026101993       140  1121444006       2019-01-24                  \n",
       "2  1032382575        11  1539892711       2018-08-28     2018-09-04   \n",
       "3   103627606         9   734195080       2018-07-17     2018-08-01   \n",
       "4  1039546167       144                                               \n",
       "\n",
       "  average_daily_car_traffic average_daily_bike_traffic counter_number  \\\n",
       "0                      4949                                         6   \n",
       "1                                                                       \n",
       "2                                                                       \n",
       "3                      2741                                             \n",
       "4                                                                       \n",
       "\n",
       "         counter_type speed_limit  ...     latitude           neighborhood  \\\n",
       "0            StatTrak          25  ...  40.45573295            Polish Hill   \n",
       "1  Intersection Study              ...  40.46615676  Central Lawrenceville   \n",
       "2                              35  ...  40.46071714                Windgap   \n",
       "3            StatTrak          25  ...  40.43737854    Squirrel Hill South   \n",
       "4                                  ...  40.49079426            Perry North   \n",
       "\n",
       "  council_district ward        tract public_works_division pli_division  \\\n",
       "0                7    6  42003060500                     6            6   \n",
       "1                7    9  42003090200                     2            9   \n",
       "2                2   28  42003563000                     5           28   \n",
       "3                5   14  42003140800                     3           14   \n",
       "4                1   26  42003260200                     1           26   \n",
       "\n",
       "  police_zone fire_zone geometry  \n",
       "0           2       2-6     None  \n",
       "1           2       3-6     None  \n",
       "2           6      1-16     None  \n",
       "3           4      2-18     None  \n",
       "4           1      1-15     None  \n",
       "\n",
       "[5 rows x 26 columns]"
      ]
     },
     "execution_count": 23,
     "metadata": {},
     "output_type": "execute_result"
    }
   ],
   "source": [
    "import geopandas as gpd\n",
    "import pandas as pd\n",
    "import numpy as np\n",
    "\n",
    "traffic_data = gpd.read_file('PersonalNotebooksData/trafficcount.csv')\n",
    "\n",
    "traffic_data.head()"
   ]
  },
  {
   "cell_type": "markdown",
   "metadata": {},
   "source": [
    "Next, we'll filter out only the important information."
   ]
  },
  {
   "cell_type": "code",
   "execution_count": 24,
   "metadata": {},
   "outputs": [
    {
     "data": {
      "text/html": [
       "<div>\n",
       "<style scoped>\n",
       "    .dataframe tbody tr th:only-of-type {\n",
       "        vertical-align: middle;\n",
       "    }\n",
       "\n",
       "    .dataframe tbody tr th {\n",
       "        vertical-align: top;\n",
       "    }\n",
       "\n",
       "    .dataframe thead th {\n",
       "        text-align: right;\n",
       "    }\n",
       "</style>\n",
       "<table border=\"1\" class=\"dataframe\">\n",
       "  <thead>\n",
       "    <tr style=\"text-align: right;\">\n",
       "      <th></th>\n",
       "      <th>Average Daily Car Traffic</th>\n",
       "      <th>Neighborhood</th>\n",
       "    </tr>\n",
       "  </thead>\n",
       "  <tbody>\n",
       "    <tr>\n",
       "      <th>0</th>\n",
       "      <td>4949</td>\n",
       "      <td>Polish Hill</td>\n",
       "    </tr>\n",
       "    <tr>\n",
       "      <th>1</th>\n",
       "      <td></td>\n",
       "      <td>Central Lawrenceville</td>\n",
       "    </tr>\n",
       "    <tr>\n",
       "      <th>2</th>\n",
       "      <td></td>\n",
       "      <td>Windgap</td>\n",
       "    </tr>\n",
       "    <tr>\n",
       "      <th>3</th>\n",
       "      <td>2741</td>\n",
       "      <td>Squirrel Hill South</td>\n",
       "    </tr>\n",
       "    <tr>\n",
       "      <th>4</th>\n",
       "      <td></td>\n",
       "      <td>Perry North</td>\n",
       "    </tr>\n",
       "  </tbody>\n",
       "</table>\n",
       "</div>"
      ],
      "text/plain": [
       "  Average Daily Car Traffic           Neighborhood\n",
       "0                      4949            Polish Hill\n",
       "1                            Central Lawrenceville\n",
       "2                                          Windgap\n",
       "3                      2741    Squirrel Hill South\n",
       "4                                      Perry North"
      ]
     },
     "execution_count": 24,
     "metadata": {},
     "output_type": "execute_result"
    }
   ],
   "source": [
    "traffic = pd.DataFrame(columns = ['Average Daily Car Traffic', 'Neighborhood'])\n",
    "traffic['Average Daily Car Traffic'] = traffic_data['average_daily_car_traffic']\n",
    "traffic['Neighborhood'] = traffic_data['neighborhood']\n",
    "\n",
    "traffic.head()"
   ]
  },
  {
   "cell_type": "markdown",
   "metadata": {},
   "source": [
    "Now to sort the data in ascending order to see which neighborhoods have the least average daily car traffic. First, we need to drop the cells with blank values. We have to use numpy for this dataset because the blank cells are simply empty strings, which Pandas doesn't recognize as having a value of null."
   ]
  },
  {
   "cell_type": "code",
   "execution_count": 25,
   "metadata": {},
   "outputs": [],
   "source": [
    "traffic['Average Daily Car Traffic'].replace('', np.nan, inplace = True)\n",
    "traffic['Neighborhood'].replace('', np.nan, inplace = True)\n",
    "traffic.dropna(subset = ['Average Daily Car Traffic'], inplace = True)\n",
    "traffic.dropna(subset = ['Neighborhood'], inplace = True)"
   ]
  },
  {
   "cell_type": "markdown",
   "metadata": {},
   "source": [
    "Then, we need to replace values in the column with ints instead of Strings so that the sort_values method functions properly."
   ]
  },
  {
   "cell_type": "code",
   "execution_count": 26,
   "metadata": {},
   "outputs": [
    {
     "data": {
      "text/html": [
       "<div>\n",
       "<style scoped>\n",
       "    .dataframe tbody tr th:only-of-type {\n",
       "        vertical-align: middle;\n",
       "    }\n",
       "\n",
       "    .dataframe tbody tr th {\n",
       "        vertical-align: top;\n",
       "    }\n",
       "\n",
       "    .dataframe thead th {\n",
       "        text-align: right;\n",
       "    }\n",
       "</style>\n",
       "<table border=\"1\" class=\"dataframe\">\n",
       "  <thead>\n",
       "    <tr style=\"text-align: right;\">\n",
       "      <th></th>\n",
       "      <th>Average Daily Car Traffic</th>\n",
       "      <th>Neighborhood</th>\n",
       "    </tr>\n",
       "  </thead>\n",
       "  <tbody>\n",
       "    <tr>\n",
       "      <th>182</th>\n",
       "      <td>23</td>\n",
       "      <td>Central Northside</td>\n",
       "    </tr>\n",
       "    <tr>\n",
       "      <th>251</th>\n",
       "      <td>58</td>\n",
       "      <td>East Liberty</td>\n",
       "    </tr>\n",
       "    <tr>\n",
       "      <th>307</th>\n",
       "      <td>63</td>\n",
       "      <td>Spring Hill-City View</td>\n",
       "    </tr>\n",
       "    <tr>\n",
       "      <th>247</th>\n",
       "      <td>77</td>\n",
       "      <td>Bloomfield</td>\n",
       "    </tr>\n",
       "    <tr>\n",
       "      <th>258</th>\n",
       "      <td>79</td>\n",
       "      <td>Highland Park</td>\n",
       "    </tr>\n",
       "    <tr>\n",
       "      <th>244</th>\n",
       "      <td>79</td>\n",
       "      <td>Bloomfield</td>\n",
       "    </tr>\n",
       "    <tr>\n",
       "      <th>321</th>\n",
       "      <td>109</td>\n",
       "      <td>Marshall-Shadeland</td>\n",
       "    </tr>\n",
       "    <tr>\n",
       "      <th>310</th>\n",
       "      <td>115</td>\n",
       "      <td>South Side Flats</td>\n",
       "    </tr>\n",
       "    <tr>\n",
       "      <th>318</th>\n",
       "      <td>126</td>\n",
       "      <td>Lincoln Place</td>\n",
       "    </tr>\n",
       "    <tr>\n",
       "      <th>158</th>\n",
       "      <td>131</td>\n",
       "      <td>Windgap</td>\n",
       "    </tr>\n",
       "    <tr>\n",
       "      <th>143</th>\n",
       "      <td>155</td>\n",
       "      <td>Highland Park</td>\n",
       "    </tr>\n",
       "    <tr>\n",
       "      <th>351</th>\n",
       "      <td>157</td>\n",
       "      <td>Perry South</td>\n",
       "    </tr>\n",
       "    <tr>\n",
       "      <th>241</th>\n",
       "      <td>175</td>\n",
       "      <td>Squirrel Hill South</td>\n",
       "    </tr>\n",
       "    <tr>\n",
       "      <th>275</th>\n",
       "      <td>177</td>\n",
       "      <td>Perry North</td>\n",
       "    </tr>\n",
       "    <tr>\n",
       "      <th>315</th>\n",
       "      <td>195</td>\n",
       "      <td>Lincoln-Lemington-Belmar</td>\n",
       "    </tr>\n",
       "  </tbody>\n",
       "</table>\n",
       "</div>"
      ],
      "text/plain": [
       "     Average Daily Car Traffic              Neighborhood\n",
       "182                         23         Central Northside\n",
       "251                         58              East Liberty\n",
       "307                         63     Spring Hill-City View\n",
       "247                         77                Bloomfield\n",
       "258                         79             Highland Park\n",
       "244                         79                Bloomfield\n",
       "321                        109        Marshall-Shadeland\n",
       "310                        115          South Side Flats\n",
       "318                        126             Lincoln Place\n",
       "158                        131                   Windgap\n",
       "143                        155             Highland Park\n",
       "351                        157               Perry South\n",
       "241                        175       Squirrel Hill South\n",
       "275                        177               Perry North\n",
       "315                        195  Lincoln-Lemington-Belmar"
      ]
     },
     "execution_count": 26,
     "metadata": {},
     "output_type": "execute_result"
    }
   ],
   "source": [
    "traffic['Average Daily Car Traffic'] = traffic['Average Daily Car Traffic'].astype(int)\n",
    "traffic_sorted = traffic.sort_values('Average Daily Car Traffic', ascending = True)\n",
    "traffic_sorted.head(15)"
   ]
  },
  {
   "cell_type": "markdown",
   "metadata": {},
   "source": [
    "But wait, some of these values have duplicate neighborhoods. Here's a quick fix that takes the average daily traffic for all neighborhoods for every day that was recorded. "
   ]
  },
  {
   "cell_type": "code",
   "execution_count": 27,
   "metadata": {},
   "outputs": [
    {
     "data": {
      "text/html": [
       "<div>\n",
       "<style scoped>\n",
       "    .dataframe tbody tr th:only-of-type {\n",
       "        vertical-align: middle;\n",
       "    }\n",
       "\n",
       "    .dataframe tbody tr th {\n",
       "        vertical-align: top;\n",
       "    }\n",
       "\n",
       "    .dataframe thead th {\n",
       "        text-align: right;\n",
       "    }\n",
       "</style>\n",
       "<table border=\"1\" class=\"dataframe\">\n",
       "  <thead>\n",
       "    <tr style=\"text-align: right;\">\n",
       "      <th></th>\n",
       "      <th>Average Daily Car Traffic</th>\n",
       "    </tr>\n",
       "    <tr>\n",
       "      <th>Neighborhood</th>\n",
       "      <th></th>\n",
       "    </tr>\n",
       "  </thead>\n",
       "  <tbody>\n",
       "    <tr>\n",
       "      <th>South Side Flats</th>\n",
       "      <td>115.000000</td>\n",
       "    </tr>\n",
       "    <tr>\n",
       "      <th>Lincoln Place</th>\n",
       "      <td>126.000000</td>\n",
       "    </tr>\n",
       "    <tr>\n",
       "      <th>Lincoln-Lemington-Belmar</th>\n",
       "      <td>195.000000</td>\n",
       "    </tr>\n",
       "    <tr>\n",
       "      <th>Fineview</th>\n",
       "      <td>419.000000</td>\n",
       "    </tr>\n",
       "    <tr>\n",
       "      <th>Allegheny West</th>\n",
       "      <td>477.000000</td>\n",
       "    </tr>\n",
       "    <tr>\n",
       "      <th>New Homestead</th>\n",
       "      <td>666.000000</td>\n",
       "    </tr>\n",
       "    <tr>\n",
       "      <th>Overbrook</th>\n",
       "      <td>777.000000</td>\n",
       "    </tr>\n",
       "    <tr>\n",
       "      <th>Summer Hill</th>\n",
       "      <td>937.000000</td>\n",
       "    </tr>\n",
       "    <tr>\n",
       "      <th>Upper Hill</th>\n",
       "      <td>953.333333</td>\n",
       "    </tr>\n",
       "    <tr>\n",
       "      <th>Central Northside</th>\n",
       "      <td>1189.000000</td>\n",
       "    </tr>\n",
       "  </tbody>\n",
       "</table>\n",
       "</div>"
      ],
      "text/plain": [
       "                          Average Daily Car Traffic\n",
       "Neighborhood                                       \n",
       "South Side Flats                         115.000000\n",
       "Lincoln Place                            126.000000\n",
       "Lincoln-Lemington-Belmar                 195.000000\n",
       "Fineview                                 419.000000\n",
       "Allegheny West                           477.000000\n",
       "New Homestead                            666.000000\n",
       "Overbrook                                777.000000\n",
       "Summer Hill                              937.000000\n",
       "Upper Hill                               953.333333\n",
       "Central Northside                       1189.000000"
      ]
     },
     "execution_count": 27,
     "metadata": {},
     "output_type": "execute_result"
    }
   ],
   "source": [
    "traffic_new = traffic_sorted.groupby('Neighborhood').mean()\n",
    "traffic_final = traffic_new.sort_values('Average Daily Car Traffic', ascending = True)\n",
    "traffic_final.head(10)"
   ]
  },
  {
   "cell_type": "markdown",
   "metadata": {},
   "source": [
    "Therefore, South Side Flats is the neighborhood with the least average daily car traffic. \n",
    "\n",
    "Let's get a better idea of the best neighborhoods by plotting the top 20 in terms of lowest daily car traffic."
   ]
  },
  {
   "cell_type": "code",
   "execution_count": 128,
   "metadata": {},
   "outputs": [
    {
     "data": {
      "image/png": "[encoded data removed]",
      "text/plain": [
       "<Figure size 432x288 with 1 Axes>"
      ]
     },
     "metadata": {
      "needs_background": "light"
     },
     "output_type": "display_data"
    }
   ],
   "source": [
    "plot = traffic_final.iloc[:20].plot(kind='bar', y='Average Daily Car Traffic', title = 'Average Daily Traffic by Neighborhood')"
   ]
  },
  {
   "cell_type": "markdown",
   "metadata": {},
   "source": [
    "Here's the bottom 20 neighborhoods:"
   ]
  },
  {
   "cell_type": "code",
   "execution_count": 69,
   "metadata": {},
   "outputs": [
    {
     "data": {
      "image/png": "[encoded data removed]",
      "text/plain": [
       "<Figure size 432x288 with 1 Axes>"
      ]
     },
     "metadata": {
      "needs_background": "light"
     },
     "output_type": "display_data"
    }
   ],
   "source": [
    "traffic_desc = traffic_final.sort_values('Average Daily Car Traffic', ascending = False)\n",
    "plot2 = traffic_desc.iloc[:20].plot(kind='bar', y='Average Daily Car Traffic', title = 'Average Daily Traffic by Neighborhood')"
   ]
  },
  {
   "cell_type": "markdown",
   "metadata": {},
   "source": [
    "Great - we now know which neighborhoods have the best and worst car traffic. Obviously, neighborhoods with less cars flying down the streets are going to be easier to jaywalk in, so lets rank them from best to worst, and throw it into a dataframe. "
   ]
  },
  {
   "cell_type": "code",
   "execution_count": 111,
   "metadata": {},
   "outputs": [
    {
     "data": {
      "text/html": [
       "<div>\n",
       "<style scoped>\n",
       "    .dataframe tbody tr th:only-of-type {\n",
       "        vertical-align: middle;\n",
       "    }\n",
       "\n",
       "    .dataframe tbody tr th {\n",
       "        vertical-align: top;\n",
       "    }\n",
       "\n",
       "    .dataframe thead th {\n",
       "        text-align: right;\n",
       "    }\n",
       "</style>\n",
       "<table border=\"1\" class=\"dataframe\">\n",
       "  <thead>\n",
       "    <tr style=\"text-align: right;\">\n",
       "      <th></th>\n",
       "      <th>Neighborhood</th>\n",
       "      <th>Traffic Rank</th>\n",
       "      <th>Walk Score Rank</th>\n",
       "      <th>Non-Traffic Citation Rank</th>\n",
       "    </tr>\n",
       "  </thead>\n",
       "  <tbody>\n",
       "    <tr>\n",
       "      <th>50</th>\n",
       "      <td>South Side Flats</td>\n",
       "      <td>1</td>\n",
       "      <td>NaN</td>\n",
       "      <td>NaN</td>\n",
       "    </tr>\n",
       "    <tr>\n",
       "      <th>31</th>\n",
       "      <td>Lincoln Place</td>\n",
       "      <td>2</td>\n",
       "      <td>NaN</td>\n",
       "      <td>NaN</td>\n",
       "    </tr>\n",
       "    <tr>\n",
       "      <th>32</th>\n",
       "      <td>Lincoln-Lemington-Belmar</td>\n",
       "      <td>3</td>\n",
       "      <td>NaN</td>\n",
       "      <td>NaN</td>\n",
       "    </tr>\n",
       "    <tr>\n",
       "      <th>22</th>\n",
       "      <td>Fineview</td>\n",
       "      <td>4</td>\n",
       "      <td>NaN</td>\n",
       "      <td>NaN</td>\n",
       "    </tr>\n",
       "    <tr>\n",
       "      <th>1</th>\n",
       "      <td>Allegheny West</td>\n",
       "      <td>5</td>\n",
       "      <td>NaN</td>\n",
       "      <td>NaN</td>\n",
       "    </tr>\n",
       "    <tr>\n",
       "      <th>38</th>\n",
       "      <td>New Homestead</td>\n",
       "      <td>6</td>\n",
       "      <td>NaN</td>\n",
       "      <td>NaN</td>\n",
       "    </tr>\n",
       "    <tr>\n",
       "      <th>41</th>\n",
       "      <td>Overbrook</td>\n",
       "      <td>7</td>\n",
       "      <td>NaN</td>\n",
       "      <td>NaN</td>\n",
       "    </tr>\n",
       "    <tr>\n",
       "      <th>59</th>\n",
       "      <td>Summer Hill</td>\n",
       "      <td>8</td>\n",
       "      <td>NaN</td>\n",
       "      <td>NaN</td>\n",
       "    </tr>\n",
       "    <tr>\n",
       "      <th>60</th>\n",
       "      <td>Upper Hill</td>\n",
       "      <td>9</td>\n",
       "      <td>NaN</td>\n",
       "      <td>NaN</td>\n",
       "    </tr>\n",
       "    <tr>\n",
       "      <th>13</th>\n",
       "      <td>Central Northside</td>\n",
       "      <td>10</td>\n",
       "      <td>NaN</td>\n",
       "      <td>NaN</td>\n",
       "    </tr>\n",
       "  </tbody>\n",
       "</table>\n",
       "</div>"
      ],
      "text/plain": [
       "                Neighborhood Traffic Rank Walk Score Rank  \\\n",
       "50          South Side Flats            1             NaN   \n",
       "31             Lincoln Place            2             NaN   \n",
       "32  Lincoln-Lemington-Belmar            3             NaN   \n",
       "22                  Fineview            4             NaN   \n",
       "1             Allegheny West            5             NaN   \n",
       "38             New Homestead            6             NaN   \n",
       "41                 Overbrook            7             NaN   \n",
       "59               Summer Hill            8             NaN   \n",
       "60                Upper Hill            9             NaN   \n",
       "13         Central Northside           10             NaN   \n",
       "\n",
       "   Non-Traffic Citation Rank  \n",
       "50                       NaN  \n",
       "31                       NaN  \n",
       "32                       NaN  \n",
       "22                       NaN  \n",
       "1                        NaN  \n",
       "38                       NaN  \n",
       "41                       NaN  \n",
       "59                       NaN  \n",
       "60                       NaN  \n",
       "13                       NaN  "
      ]
     },
     "execution_count": 111,
     "metadata": {},
     "output_type": "execute_result"
    }
   ],
   "source": [
    "\n",
    "#creating the new dataframe and iterating through the traffic dataframe to rank\n",
    "CM = pd.DataFrame(columns = ['Neighborhood', 'Traffic Rank', 'Walk Score Rank', 'Non-Traffic Citation Rank'])\n",
    "\n",
    "i = 0\n",
    "for index, row in traffic_new.iterrows():\n",
    "    CM.at[i,'Neighborhood'] = index\n",
    "    i+= 1\n",
    "\n",
    "tRank = 1\n",
    "for index, row in traffic_final.iterrows():\n",
    "    CM.loc[CM['Neighborhood']==index, \"Traffic Rank\"] = tRank\n",
    "    tRank+=1\n",
    "CM.sort_values(\"Traffic Rank\").head(10)"
   ]
  },
  {
   "cell_type": "markdown",
   "metadata": {},
   "source": [
    "# Metric 2 - Walkability of Pittsburgh\n",
    "\n",
    "## By Cole Swierczek\n",
    "\n",
    "[The Data](https://data.wprdc.org/dataset/allegheny-county-walk-scores)\n",
    "\n",
    "If you're going to jaywalk somewhere, you need a good place to jaywalk *to*. This dataset uses different metrics to determine how \"walkable\" a neighborhood is. These include - distance crom amenities, population density, intersection density, so on and so forth. This dataset provides those walk scores (0-100) for each census tract using DASH data guidelines (Dash meaning Allegheny County Data Across Sectors for Health). The first thing we need to do is set up pandas for data visualization and then create a dataframe for the csv file."
   ]
  },
  {
   "cell_type": "code",
   "execution_count": 114,
   "metadata": {},
   "outputs": [
    {
     "data": {
      "text/html": [
       "<div>\n",
       "<style scoped>\n",
       "    .dataframe tbody tr th:only-of-type {\n",
       "        vertical-align: middle;\n",
       "    }\n",
       "\n",
       "    .dataframe tbody tr th {\n",
       "        vertical-align: top;\n",
       "    }\n",
       "\n",
       "    .dataframe thead th {\n",
       "        text-align: right;\n",
       "    }\n",
       "</style>\n",
       "<table border=\"1\" class=\"dataframe\">\n",
       "  <thead>\n",
       "    <tr style=\"text-align: right;\">\n",
       "      <th></th>\n",
       "      <th>Census Tract</th>\n",
       "      <th>Walk Score</th>\n",
       "    </tr>\n",
       "  </thead>\n",
       "  <tbody>\n",
       "    <tr>\n",
       "      <th>0</th>\n",
       "      <td>10300</td>\n",
       "      <td>82</td>\n",
       "    </tr>\n",
       "    <tr>\n",
       "      <th>1</th>\n",
       "      <td>20100</td>\n",
       "      <td>100</td>\n",
       "    </tr>\n",
       "    <tr>\n",
       "      <th>2</th>\n",
       "      <td>20300</td>\n",
       "      <td>83</td>\n",
       "    </tr>\n",
       "    <tr>\n",
       "      <th>3</th>\n",
       "      <td>30500</td>\n",
       "      <td>77</td>\n",
       "    </tr>\n",
       "    <tr>\n",
       "      <th>4</th>\n",
       "      <td>40200</td>\n",
       "      <td>71</td>\n",
       "    </tr>\n",
       "    <tr>\n",
       "      <th>5</th>\n",
       "      <td>40400</td>\n",
       "      <td>82</td>\n",
       "    </tr>\n",
       "    <tr>\n",
       "      <th>6</th>\n",
       "      <td>40500</td>\n",
       "      <td>78</td>\n",
       "    </tr>\n",
       "    <tr>\n",
       "      <th>7</th>\n",
       "      <td>40600</td>\n",
       "      <td>75</td>\n",
       "    </tr>\n",
       "    <tr>\n",
       "      <th>8</th>\n",
       "      <td>40900</td>\n",
       "      <td>68</td>\n",
       "    </tr>\n",
       "    <tr>\n",
       "      <th>9</th>\n",
       "      <td>50100</td>\n",
       "      <td>60</td>\n",
       "    </tr>\n",
       "  </tbody>\n",
       "</table>\n",
       "</div>"
      ],
      "text/plain": [
       "   Census Tract  Walk Score\n",
       "0         10300          82\n",
       "1         20100         100\n",
       "2         20300          83\n",
       "3         30500          77\n",
       "4         40200          71\n",
       "5         40400          82\n",
       "6         40500          78\n",
       "7         40600          75\n",
       "8         40900          68\n",
       "9         50100          60"
      ]
     },
     "execution_count": 114,
     "metadata": {},
     "output_type": "execute_result"
    }
   ],
   "source": [
    "\n",
    "#reading in the csv file\n",
    "walkable = pd.read_csv('PersonalNotebooksData/walkscorect.xls-walk-score-by-ct.csv')\n",
    "#demonstrating that its working as intended\n",
    "walkable.head(10)"
   ]
  },
  {
   "cell_type": "markdown",
   "metadata": {},
   "source": [
    "**Great!**\n",
    "\n",
    "But this isn't really useful, like at all. We need to know which *neighborhood* has the best walk score, not which census tract. Also, this is data for all of allegheny county, and we want just Pittsburgh. Luckily, through the Pitt Library system, we can find a csv that has a list of Pittsburgh census tracts from 1940-2010. \n",
    "[Here](https://pitt.libguides.com/uscensus/pghcensustracts) "
   ]
  },
  {
   "cell_type": "code",
   "execution_count": 116,
   "metadata": {},
   "outputs": [
    {
     "data": {
      "text/html": [
       "<div>\n",
       "<style scoped>\n",
       "    .dataframe tbody tr th:only-of-type {\n",
       "        vertical-align: middle;\n",
       "    }\n",
       "\n",
       "    .dataframe tbody tr th {\n",
       "        vertical-align: top;\n",
       "    }\n",
       "\n",
       "    .dataframe thead th {\n",
       "        text-align: right;\n",
       "    }\n",
       "</style>\n",
       "<table border=\"1\" class=\"dataframe\">\n",
       "  <thead>\n",
       "    <tr style=\"text-align: right;\">\n",
       "      <th></th>\n",
       "      <th>Allegheny Center</th>\n",
       "      <th>2020</th>\n",
       "      <th>5627</th>\n",
       "    </tr>\n",
       "  </thead>\n",
       "  <tbody>\n",
       "    <tr>\n",
       "      <th>0</th>\n",
       "      <td>NaN</td>\n",
       "      <td>2010.0</td>\n",
       "      <td>5627</td>\n",
       "    </tr>\n",
       "    <tr>\n",
       "      <th>1</th>\n",
       "      <td>NaN</td>\n",
       "      <td>2000.0</td>\n",
       "      <td>2204</td>\n",
       "    </tr>\n",
       "    <tr>\n",
       "      <th>2</th>\n",
       "      <td>NaN</td>\n",
       "      <td>1990.0</td>\n",
       "      <td>2204</td>\n",
       "    </tr>\n",
       "    <tr>\n",
       "      <th>3</th>\n",
       "      <td>NaN</td>\n",
       "      <td>1980.0</td>\n",
       "      <td>(.03) *2201, 2204, (.02) *2205</td>\n",
       "    </tr>\n",
       "    <tr>\n",
       "      <th>4</th>\n",
       "      <td>NaN</td>\n",
       "      <td>1970.0</td>\n",
       "      <td>(.03) *2201, 2204, (.02) *2205</td>\n",
       "    </tr>\n",
       "    <tr>\n",
       "      <th>5</th>\n",
       "      <td>NaN</td>\n",
       "      <td>1960.0</td>\n",
       "      <td>(.03) *22A, 22D, 22E, (.02) *22G</td>\n",
       "    </tr>\n",
       "    <tr>\n",
       "      <th>6</th>\n",
       "      <td>NaN</td>\n",
       "      <td>1950.0</td>\n",
       "      <td>(.03) *22A, 22D, 22E, (.02) *22G</td>\n",
       "    </tr>\n",
       "    <tr>\n",
       "      <th>7</th>\n",
       "      <td>NaN</td>\n",
       "      <td>1940.0</td>\n",
       "      <td>(.03) *22A, 22D, 22E, (.02) *22G</td>\n",
       "    </tr>\n",
       "    <tr>\n",
       "      <th>8</th>\n",
       "      <td>Allegheny West</td>\n",
       "      <td>2020.0</td>\n",
       "      <td>5627</td>\n",
       "    </tr>\n",
       "    <tr>\n",
       "      <th>9</th>\n",
       "      <td>NaN</td>\n",
       "      <td>2010.0</td>\n",
       "      <td>5627</td>\n",
       "    </tr>\n",
       "  </tbody>\n",
       "</table>\n",
       "</div>"
      ],
      "text/plain": [
       "  Allegheny Center    2020                              5627\n",
       "0              NaN  2010.0                              5627\n",
       "1              NaN  2000.0                              2204\n",
       "2              NaN  1990.0                              2204\n",
       "3              NaN  1980.0    (.03) *2201, 2204, (.02) *2205\n",
       "4              NaN  1970.0    (.03) *2201, 2204, (.02) *2205\n",
       "5              NaN  1960.0  (.03) *22A, 22D, 22E, (.02) *22G\n",
       "6              NaN  1950.0  (.03) *22A, 22D, 22E, (.02) *22G\n",
       "7              NaN  1940.0  (.03) *22A, 22D, 22E, (.02) *22G\n",
       "8   Allegheny West  2020.0                              5627\n",
       "9              NaN  2010.0                              5627"
      ]
     },
     "execution_count": 116,
     "metadata": {},
     "output_type": "execute_result"
    }
   ],
   "source": [
    "pittcensus = pd.read_csv('PersonalNotebooksData/Pittsburgh_Census_Tracts_1940-2020.csv', encoding= 'cp1252')\n",
    "pittcensus.head(10)"
   ]
  },
  {
   "cell_type": "markdown",
   "metadata": {},
   "source": [
    "Ok, so we've read in our next dataset, but theres some issues. The column names are all wrong because the original csv doesn't have any labels, and theres this mysterious \"not a number\" value in the leftmost neighborhood column. Lets fix all of that first. "
   ]
  },
  {
   "cell_type": "code",
   "execution_count": 117,
   "metadata": {},
   "outputs": [
    {
     "data": {
      "text/html": [
       "<div>\n",
       "<style scoped>\n",
       "    .dataframe tbody tr th:only-of-type {\n",
       "        vertical-align: middle;\n",
       "    }\n",
       "\n",
       "    .dataframe tbody tr th {\n",
       "        vertical-align: top;\n",
       "    }\n",
       "\n",
       "    .dataframe thead th {\n",
       "        text-align: right;\n",
       "    }\n",
       "</style>\n",
       "<table border=\"1\" class=\"dataframe\">\n",
       "  <thead>\n",
       "    <tr style=\"text-align: right;\">\n",
       "      <th></th>\n",
       "      <th>Neighborhood</th>\n",
       "      <th>Census Year</th>\n",
       "      <th>Census Tracts</th>\n",
       "    </tr>\n",
       "  </thead>\n",
       "  <tbody>\n",
       "    <tr>\n",
       "      <th>0</th>\n",
       "      <td>Allegheny Center</td>\n",
       "      <td>2020.0</td>\n",
       "      <td>5627</td>\n",
       "    </tr>\n",
       "    <tr>\n",
       "      <th>1</th>\n",
       "      <td>Allegheny Center</td>\n",
       "      <td>2010.0</td>\n",
       "      <td>5627</td>\n",
       "    </tr>\n",
       "    <tr>\n",
       "      <th>2</th>\n",
       "      <td>Allegheny Center</td>\n",
       "      <td>2000.0</td>\n",
       "      <td>2204</td>\n",
       "    </tr>\n",
       "    <tr>\n",
       "      <th>3</th>\n",
       "      <td>Allegheny Center</td>\n",
       "      <td>1990.0</td>\n",
       "      <td>2204</td>\n",
       "    </tr>\n",
       "    <tr>\n",
       "      <th>4</th>\n",
       "      <td>Allegheny Center</td>\n",
       "      <td>1980.0</td>\n",
       "      <td>(.03) *2201, 2204, (.02) *2205</td>\n",
       "    </tr>\n",
       "    <tr>\n",
       "      <th>5</th>\n",
       "      <td>Allegheny Center</td>\n",
       "      <td>1970.0</td>\n",
       "      <td>(.03) *2201, 2204, (.02) *2205</td>\n",
       "    </tr>\n",
       "    <tr>\n",
       "      <th>6</th>\n",
       "      <td>Allegheny Center</td>\n",
       "      <td>1960.0</td>\n",
       "      <td>(.03) *22A, 22D, 22E, (.02) *22G</td>\n",
       "    </tr>\n",
       "    <tr>\n",
       "      <th>7</th>\n",
       "      <td>Allegheny Center</td>\n",
       "      <td>1950.0</td>\n",
       "      <td>(.03) *22A, 22D, 22E, (.02) *22G</td>\n",
       "    </tr>\n",
       "    <tr>\n",
       "      <th>8</th>\n",
       "      <td>Allegheny Center</td>\n",
       "      <td>1940.0</td>\n",
       "      <td>(.03) *22A, 22D, 22E, (.02) *22G</td>\n",
       "    </tr>\n",
       "    <tr>\n",
       "      <th>9</th>\n",
       "      <td>Allegheny West</td>\n",
       "      <td>2020.0</td>\n",
       "      <td>5627</td>\n",
       "    </tr>\n",
       "    <tr>\n",
       "      <th>10</th>\n",
       "      <td>Allegheny West</td>\n",
       "      <td>2010.0</td>\n",
       "      <td>5627</td>\n",
       "    </tr>\n",
       "    <tr>\n",
       "      <th>11</th>\n",
       "      <td>Allegheny West</td>\n",
       "      <td>2000.0</td>\n",
       "      <td>2201</td>\n",
       "    </tr>\n",
       "    <tr>\n",
       "      <th>12</th>\n",
       "      <td>Allegheny West</td>\n",
       "      <td>1990.0</td>\n",
       "      <td>2201</td>\n",
       "    </tr>\n",
       "    <tr>\n",
       "      <th>13</th>\n",
       "      <td>Allegheny West</td>\n",
       "      <td>1980.0</td>\n",
       "      <td>(.97) *2201</td>\n",
       "    </tr>\n",
       "    <tr>\n",
       "      <th>14</th>\n",
       "      <td>Allegheny West</td>\n",
       "      <td>1970.0</td>\n",
       "      <td>(.97) *2201</td>\n",
       "    </tr>\n",
       "    <tr>\n",
       "      <th>15</th>\n",
       "      <td>Allegheny West</td>\n",
       "      <td>1960.0</td>\n",
       "      <td>(.97) *22A</td>\n",
       "    </tr>\n",
       "    <tr>\n",
       "      <th>16</th>\n",
       "      <td>Allegheny West</td>\n",
       "      <td>1950.0</td>\n",
       "      <td>(.97) *22A</td>\n",
       "    </tr>\n",
       "    <tr>\n",
       "      <th>17</th>\n",
       "      <td>Allegheny West</td>\n",
       "      <td>1940.0</td>\n",
       "      <td>(.97) *22A</td>\n",
       "    </tr>\n",
       "    <tr>\n",
       "      <th>18</th>\n",
       "      <td>Allentown</td>\n",
       "      <td>2020.0</td>\n",
       "      <td>1803</td>\n",
       "    </tr>\n",
       "    <tr>\n",
       "      <th>19</th>\n",
       "      <td>Allentown</td>\n",
       "      <td>2010.0</td>\n",
       "      <td>1803</td>\n",
       "    </tr>\n",
       "  </tbody>\n",
       "</table>\n",
       "</div>"
      ],
      "text/plain": [
       "        Neighborhood  Census Year                     Census Tracts\n",
       "0   Allegheny Center       2020.0                              5627\n",
       "1   Allegheny Center       2010.0                              5627\n",
       "2   Allegheny Center       2000.0                              2204\n",
       "3   Allegheny Center       1990.0                              2204\n",
       "4   Allegheny Center       1980.0    (.03) *2201, 2204, (.02) *2205\n",
       "5   Allegheny Center       1970.0    (.03) *2201, 2204, (.02) *2205\n",
       "6   Allegheny Center       1960.0  (.03) *22A, 22D, 22E, (.02) *22G\n",
       "7   Allegheny Center       1950.0  (.03) *22A, 22D, 22E, (.02) *22G\n",
       "8   Allegheny Center       1940.0  (.03) *22A, 22D, 22E, (.02) *22G\n",
       "9     Allegheny West       2020.0                              5627\n",
       "10    Allegheny West       2010.0                              5627\n",
       "11    Allegheny West       2000.0                              2201\n",
       "12    Allegheny West       1990.0                              2201\n",
       "13    Allegheny West       1980.0                       (.97) *2201\n",
       "14    Allegheny West       1970.0                       (.97) *2201\n",
       "15    Allegheny West       1960.0                        (.97) *22A\n",
       "16    Allegheny West       1950.0                        (.97) *22A\n",
       "17    Allegheny West       1940.0                        (.97) *22A\n",
       "18         Allentown       2020.0                              1803\n",
       "19         Allentown       2010.0                              1803"
      ]
     },
     "execution_count": 117,
     "metadata": {},
     "output_type": "execute_result"
    }
   ],
   "source": [
    "#little wonky - pandas thinks the top row of information is the names of our columns\n",
    "newRow = pd.DataFrame({'Allegheny Center':'Allegheny Center','2020':2020,'5627':5627}, index = [0]) #duplicating the first row \n",
    "\n",
    "pittcensus= pd.concat([newRow,pittcensus.loc[:]]).reset_index(drop=True) #concatinating the duplicated row\n",
    "pittcensus.columns=['Neighborhood', 'Census Year','Census Tracts'] #renaming the top row so the columns are correctly titled\n",
    "\n",
    "#Iterating through the neighborhoods with no name listed and properly labeling them\n",
    "curNeigh = pittcensus[\"Neighborhood\"][0]\n",
    "pittcensus[\"Neighborhood\"] = pittcensus[\"Neighborhood\"].fillna(0)\n",
    "for index, row in pittcensus.iterrows():\n",
    "    if row['Neighborhood'] == 0:\n",
    "        pittcensus.at[index,'Neighborhood']=curNeigh\n",
    "    else:\n",
    "        curNeigh = row['Neighborhood']\n",
    "pittcensus.head(20)"
   ]
  },
  {
   "cell_type": "markdown",
   "metadata": {},
   "source": [
    "Cool, now our dataset is formatted properly! However, we only care about the 2010 census, because thats when our walkability scores were made. We need to filter out all the others. Also, the walk scores are for all of Allegheny County, and we only care about Pittsburgh, so we need to get rid of those too. We can do this by matching the census tracts in the walkability score dataset to the census tracts in the Pittsburgh Census Tracts data set, and then storying them in a dictionary data structure.\n"
   ]
  },
  {
   "cell_type": "code",
   "execution_count": 118,
   "metadata": {},
   "outputs": [
    {
     "name": "stdout",
     "output_type": "stream",
     "text": [
      "{'Bluff': [82], 'New Homestead': [82, 2], 'Golden Triangle/Civic Arena': [100], 'Lincoln-Lemington-Belmar': [83, 37, 25, 72, 35], 'Strip District': [83], 'Crawford-Roberts': [77], 'Squirrel Hill North': [71, 66, 72, 80], 'Terrace Village': [71, 58, 62], 'West Oakland': [71], 'North Oakland': [82, 75], 'Point Breeze': [82, 75, 54, 68, 51], 'Central Oakland': [78, 75], 'Point Breeze North': [78, 72], 'Troy Hill': [75, 68], 'South Oakland': [68, 74], 'Middle Hill': [60], 'Upper Hill': [74], 'Bedford Dwellings': [77], 'Fineview': [77, 54], 'Lower Lawrenceville': [91], 'Polish Hill': [88], 'Brighton Heights': [91, 88, 48, 55, 43], 'Shadyside': [91, 88, 77, 88, 89], 'South Side Slopes': [77, 65, 65], 'Bloomfield': [82, 86, 82, 86, 86], 'Perry North': [86, 26, 29, 29], 'Chateau': [82, 62], 'Friendship': [86], 'Mount Washington': [86, 86, 65, 77, 71, 45], 'South Shore': [86, 72], 'Marshall-Shadeland': [86, 48, 45, 35], 'Carrick': [72, 86, 48, 49, 65], 'Central Lawrenceville': [72, 86, 54], 'Stanton Heights': [29, 28], 'Upper Lawrenceville': [49], 'Morningside': [40], 'Garfield': [52, 66, 69], 'Highland Park': [54, 51], 'East Liberty': [63, 86], 'Larimer': [60, 75], 'Homewood West': [68], 'Homewood North': [38, 57], 'Homewood South': [71, 62], 'East Hills': [32], 'Squirrel Hill South': [88, 80, 43, 42, 43], 'Regent Square': [71], 'Swisshelm Park': [35], 'Greenfield': [48, 63], 'South Side Flats': [75, 85], 'Allentown': [63], 'Duquesne Heights': [40], 'Beechview': [37], 'Brookline': [29, 51, 65, 40], 'Sheraden': [48, 48], 'Banksville': [48], 'Manchester': [68], 'Central Northside': [89, 83], 'Spring Garden': [54], 'California Kirkbride': [58], 'Northview Heights': [23], 'Summer Hill': [9], 'Perry South': [49, 40], 'Spring Hill – City View': [49], 'Crafton Heights': [28, 37], 'Knoxville': [58], 'Lincoln Place': [20], 'Overbrook': [57, 42], 'Arlington': [26], 'Arlington Heights': [26], 'Mount Oliver Neighborhood': [26], 'Saint Clair': [26], 'Glen Hazel': [31], 'Hazelwood': [31, 18], 'Beltzhoover': [40], 'Bon Air': [40], 'Esplen': [48], 'Elliott': [42], 'West End': [42], 'Allegheny Center': [86], 'Allegheny West': [86], 'East Carnegie': [42], 'Oakwood': [42], 'Hays': [18], 'Chartiers City': [22], 'Fairywood': [22], 'Windgap': [22], 'Ridgemont': [54], 'Westwood': [54], 'East Allegheny': [72], 'North Shore': [72, 75]}\n"
     ]
    }
   ],
   "source": [
    "#Obtaining Census tracts for 2010 in pittsburgh\n",
    "pittcensus = pittcensus.loc[pittcensus['Census Year'] == 2010]\n",
    "\n",
    "#Filtering out the Allegheny county walk data for just pittsburgh walk data\n",
    "census_dict = dict()\n",
    "for index, row in walkable.iterrows():\n",
    "    for i, r in pittcensus.iterrows():\n",
    "        if str(int(row['Census Tract']/100)) in r['Census Tracts']:\n",
    "            if r['Neighborhood'] in census_dict:\n",
    "                census_dict[r['Neighborhood']].append(row['Walk Score'])\n",
    "            else:\n",
    "                census_dict[r['Neighborhood']]=[row['Walk Score']]\n",
    "print(census_dict)"
   ]
  },
  {
   "cell_type": "markdown",
   "metadata": {},
   "source": [
    "Ok, so now we have our dictionary of Neighborhoods and their multiple walkability scores, because some neighborhoods have multiple census tracts. The issue is, we want *one* per neighborhood. So lets average them."
   ]
  },
  {
   "cell_type": "code",
   "execution_count": 119,
   "metadata": {},
   "outputs": [
    {
     "name": "stdout",
     "output_type": "stream",
     "text": [
      "{'Bluff': [82.0], 'New Homestead': [42.0], 'Golden Triangle/Civic Arena': [100.0], 'Lincoln-Lemington-Belmar': [50.4], 'Strip District': [83.0], 'Crawford-Roberts': [77.0], 'Squirrel Hill North': [72.25], 'Terrace Village': [63.666666666666664], 'West Oakland': [71.0], 'North Oakland': [78.5], 'Point Breeze': [66.0], 'Central Oakland': [76.5], 'Point Breeze North': [75.0], 'Troy Hill': [71.5], 'South Oakland': [71.0], 'Middle Hill': [60.0], 'Upper Hill': [74.0], 'Bedford Dwellings': [77.0], 'Fineview': [65.5], 'Lower Lawrenceville': [91.0], 'Polish Hill': [88.0], 'Brighton Heights': [65.0], 'Shadyside': [86.6], 'South Side Slopes': [69.0], 'Bloomfield': [84.4], 'Perry North': [42.5], 'Chateau': [72.0], 'Friendship': [86.0], 'Mount Washington': [71.66666666666667], 'South Shore': [79.0], 'Marshall-Shadeland': [53.5], 'Carrick': [64.0], 'Central Lawrenceville': [70.66666666666667], 'Stanton Heights': [28.5], 'Upper Lawrenceville': [49.0], 'Morningside': [40.0], 'Garfield': [62.333333333333336], 'Highland Park': [52.5], 'East Liberty': [74.5], 'Larimer': [67.5], 'Homewood West': [68.0], 'Homewood North': [47.5], 'Homewood South': [66.5], 'East Hills': [32.0], 'Squirrel Hill South': [59.2], 'Regent Square': [71.0], 'Swisshelm Park': [35.0], 'Greenfield': [55.5], 'South Side Flats': [80.0], 'Allentown': [63.0], 'Duquesne Heights': [40.0], 'Beechview': [37.0], 'Brookline': [46.25], 'Sheraden': [48.0], 'Banksville': [48.0], 'Manchester': [68.0], 'Central Northside': [86.0], 'Spring Garden': [54.0], 'California Kirkbride': [58.0], 'Northview Heights': [23.0], 'Summer Hill': [9.0], 'Perry South': [44.5], 'Spring Hill – City View': [49.0], 'Crafton Heights': [32.5], 'Knoxville': [58.0], 'Lincoln Place': [20.0], 'Overbrook': [49.5], 'Arlington': [26.0], 'Arlington Heights': [26.0], 'Mount Oliver Neighborhood': [26.0], 'Saint Clair': [26.0], 'Glen Hazel': [31.0], 'Hazelwood': [24.5], 'Beltzhoover': [40.0], 'Bon Air': [40.0], 'Esplen': [48.0], 'Elliott': [42.0], 'West End': [42.0], 'Allegheny Center': [86.0], 'Allegheny West': [86.0], 'East Carnegie': [42.0], 'Oakwood': [42.0], 'Hays': [18.0], 'Chartiers City': [22.0], 'Fairywood': [22.0], 'Windgap': [22.0], 'Ridgemont': [54.0], 'Westwood': [54.0], 'East Allegheny': [72.0], 'North Shore': [73.5]}\n"
     ]
    }
   ],
   "source": [
    "#averaging the walk scores for all of the neighborhoods\n",
    "d = census_dict.items()\n",
    "for k, v in d:\n",
    "    keyVal = 0\n",
    "    count = 0\n",
    "    for value in v:\n",
    "        keyVal+= value\n",
    "        count+=1\n",
    "    census_dict[k] = [keyVal/count]\n",
    "print(census_dict)"
   ]
  },
  {
   "cell_type": "markdown",
   "metadata": {},
   "source": [
    "## Shazam! \n",
    "Just like that, we have a dictionary containing every neighborhood and its average walkability score according to the allegheny dataset. Still, this is rough to look at, so lets throw it into a new dataframe and sort it. "
   ]
  },
  {
   "cell_type": "code",
   "execution_count": 120,
   "metadata": {},
   "outputs": [],
   "source": [
    "df = pd.DataFrame.from_dict(data=census_dict, orient = 'index', columns = ['Walk Score'])\n",
    "df = df.sort_values(\"Walk Score\", ascending = False)"
   ]
  },
  {
   "cell_type": "markdown",
   "metadata": {},
   "source": [
    "Ok, so we have our dataframe of walk scores in descending order. Lets visualize it - Lets plot all of the neighborhoods!"
   ]
  },
  {
   "cell_type": "code",
   "execution_count": 121,
   "metadata": {},
   "outputs": [
    {
     "data": {
      "text/plain": [
       "<matplotlib.axes._subplots.AxesSubplot at 0x7f3b0acb27f0>"
      ]
     },
     "execution_count": 121,
     "metadata": {},
     "output_type": "execute_result"
    },
    {
     "data": {
      "image/png": "[encoded data removed]",
      "text/plain": [
       "<Figure size 2160x720 with 1 Axes>"
      ]
     },
     "metadata": {
      "needs_background": "light"
     },
     "output_type": "display_data"
    }
   ],
   "source": [
    "df.plot.bar(figsize = (30, 10), y='Walk Score', title= 'Walkability Scores of Pittsburgh')"
   ]
  },
  {
   "cell_type": "markdown",
   "metadata": {},
   "source": [
    "Woah. Lets make this a bit more managable"
   ]
  },
  {
   "cell_type": "code",
   "execution_count": 122,
   "metadata": {},
   "outputs": [
    {
     "data": {
      "text/plain": [
       "<matplotlib.axes._subplots.AxesSubplot at 0x7f3b0a4a2ac0>"
      ]
     },
     "execution_count": 122,
     "metadata": {},
     "output_type": "execute_result"
    },
    {
     "data": {
      "image/png": "[encoded data removed]",
      "text/plain": [
       "<Figure size 2160x720 with 1 Axes>"
      ]
     },
     "metadata": {
      "needs_background": "light"
     },
     "output_type": "display_data"
    }
   ],
   "source": [
    "df.iloc[:10].plot.bar(figsize = (30, 10), y='Walk Score', title= 'Walkability Scores of Pittsburgh')"
   ]
  },
  {
   "cell_type": "markdown",
   "metadata": {},
   "source": [
    "**Now that we've ranked traffic and have the data for walkability, lets rank walkability and add it to the final dataframe!**\n"
   ]
  },
  {
   "cell_type": "code",
   "execution_count": 129,
   "metadata": {},
   "outputs": [],
   "source": [
    "wRank = 1\n",
    "for index, row in df.iterrows():\n",
    "    CM.loc[CM['Neighborhood']==index, \"Walk Score Rank\"] = wRank\n",
    "    wRank+=1"
   ]
  },
  {
   "cell_type": "markdown",
   "metadata": {},
   "source": [
    "# Final Metric - Which neighborhood makes for the most pleasant walk?\n",
    "### By Patrick McKeever\n",
    "### Datasets: [Non-Traffic-Citations](https://data.wprdc.org/dataset/non-traffic-citations), [Neighborhood Size](https://data.wprdc.org/dataset/neighborhoods2)\n",
    "## This data includes non-traffic citations by neighborhood for harassment, property damage, littering, excessive noise, disorderly conduct, public intoxication, and more since 2015."
   ]
  },
  {
   "cell_type": "code",
   "execution_count": 131,
   "metadata": {},
   "outputs": [
    {
     "name": "stdout",
     "output_type": "stream",
     "text": [
      "NEIGHBORHOOD\n",
      "South Side Flats             3269\n",
      "Central Business District    1767\n",
      "Central Oakland               650\n",
      "North Shore                   542\n",
      "Carrick                       411\n",
      "                             ... \n",
      "Ridgemont                       4\n",
      "Mt. Oliver Neighborhood         4\n",
      "St. Clair                       3\n",
      "Mt. Oliver Boro                 2\n",
      "Chartiers City                  2\n",
      "Name: OFFENSES, Length: 94, dtype: int64\n"
     ]
    }
   ],
   "source": [
    "# Loading in the data\n",
    "citations = pd.read_csv('PersonalNotebooksData/Non-Traffic-Citations.csv')\n",
    "\n",
    "# Removing non-neighborhoods from the dataset\n",
    "citations = citations[citations['NEIGHBORHOOD']!= 'Outside County']\n",
    "citations = citations[citations['NEIGHBORHOOD']!= 'Outside State']\n",
    "citations = citations[citations['NEIGHBORHOOD']!= 'Unable To Retrieve Address']\n",
    "\n",
    "# counting the # of citations commited in each neighborhood\n",
    "counts = citations.groupby('NEIGHBORHOOD').count()['OFFENSES']\n",
    "\n",
    "#sorting and printing these values\n",
    "pd.set_option('display.max_rows', 10)\n",
    "counts = counts.sort_values(ascending=False)\n",
    "print(counts)"
   ]
  },
  {
   "cell_type": "markdown",
   "metadata": {},
   "source": [
    "#### The neighborhoods high in citations are also some of the largest neighborhoods in all of Pittsburgh, compared to the small neighborhoods low in citations. To fairly assess the safety of these neighborhoods, they need to be weighted by size. In a small neighborhood like Chartiers City, there aren't many citations, but there also isn't much area to walk in. I'll divide each citation amount by the square miles of each neighborhood for the final metric."
   ]
  },
  {
   "cell_type": "code",
   "execution_count": 133,
   "metadata": {},
   "outputs": [
    {
     "name": "stdout",
     "output_type": "stream",
     "text": [
      "                 Neighborhood  sqmiles  Citations  Citations/sqmile\n",
      "86           South Side Flats    0.936       3269       3492.521368\n",
      "42  Central Business District    0.640       1767       2760.937500\n",
      "45            Central Oakland    0.281        650       2313.167260\n",
      "29                North Shore    0.303        542       1788.778878\n",
      "43             East Allegheny    0.236        342       1449.152542\n",
      "..                        ...      ...        ...               ...\n",
      "80             Swisshelm Park    0.480          6         12.500000\n",
      "63                  Ridgemont    0.369          4         10.840108\n",
      "37              New Homestead    0.794          8         10.075567\n",
      "71                  St. Clair    0.310          3          9.677419\n",
      "25                       Hays    1.750          8          4.571429\n",
      "\n",
      "[87 rows x 4 columns]\n"
     ]
    }
   ],
   "source": [
    "# Loading in the data\n",
    "size = pd.read_csv('PersonalNotebooksData/Size.csv')\n",
    "\n",
    "# Limiting the dataframe to just the neighborhood and its size\n",
    "size = size.loc[:, ['hood', 'sqmiles']]\n",
    "\n",
    "# Merging the size data with the citation data\n",
    "size = size.rename(columns={'hood': 'NEIGHBORHOOD'})\n",
    "merged = pd.merge(size, counts, on='NEIGHBORHOOD')\n",
    "merged = merged[merged['sqmiles']!= 0]\n",
    "merged = merged.rename(columns={'OFFENSES': 'Citations'})\n",
    "merged = merged.rename(columns={'NEIGHBORHOOD': 'Neighborhood'})\n",
    "\n",
    "# Creating a new columnn for the final metric\n",
    "merged['Citations/sqmile'] = merged['Citations']/merged['sqmiles']\n",
    "\n",
    "# Displayingb the data\n",
    "merged = merged.sort_values(by='Citations/sqmile', ascending = False)\n",
    "print(merged)"
   ]
  },
  {
   "cell_type": "markdown",
   "metadata": {},
   "source": [
    "### Here are the 15 least pleasant neighborhoods to walk in Pittsburgh according to citations/sqmile since 2015."
   ]
  },
  {
   "cell_type": "code",
   "execution_count": 134,
   "metadata": {},
   "outputs": [
    {
     "data": {
      "image/png": "[encoded data removed]",
      "text/plain": [
       "<Figure size 432x288 with 1 Axes>"
      ]
     },
     "metadata": {
      "needs_background": "light"
     },
     "output_type": "display_data"
    }
   ],
   "source": [
    "plt = merged.iloc[:15].plot(kind='barh', x=\"Neighborhood\", y=\"Citations/sqmile\", title=\"Citations per Square Mile by Neighborhood\")"
   ]
  },
  {
   "cell_type": "markdown",
   "metadata": {},
   "source": [
    "### And here are the 15 most pleasant neighborhoods."
   ]
  },
  {
   "cell_type": "code",
   "execution_count": 135,
   "metadata": {},
   "outputs": [
    {
     "data": {
      "image/png": "[encoded data removed]",
      "text/plain": [
       "<Figure size 432x288 with 1 Axes>"
      ]
     },
     "metadata": {
      "needs_background": "light"
     },
     "output_type": "display_data"
    }
   ],
   "source": [
    "merged_reverse = merged.sort_values(by='Citations/sqmile')\n",
    "plt = merged_reverse.iloc[:15].plot(kind='barh', x=\"Neighborhood\", y=\"Citations/sqmile\", title=\"Citations per Square Mile by Neighborhood\")"
   ]
  },
  {
   "cell_type": "markdown",
   "metadata": {},
   "source": [
    "**Ok**, so now we know which neighborhoods have the most traffic, which neighborhoods are the most walkable, and which neighborhoods are the *nicest to walk through*. There's a distinction between the last two metrics - one is measuring how feasible it is to be a pedestrian, and the other is measuring disturbances in the area to determine the nicest and safest areas."
   ]
  },
  {
   "cell_type": "markdown",
   "metadata": {},
   "source": [
    "# Determining the Final Verdict\n",
    "\n",
    "Its finally time to determine the best neighborhood for jaywalking. First, lets rank our Non-traffic citations, and then see what we can do from there. "
   ]
  },
  {
   "cell_type": "code",
   "execution_count": 156,
   "metadata": {},
   "outputs": [
    {
     "data": {
      "text/html": [
       "<div>\n",
       "<style scoped>\n",
       "    .dataframe tbody tr th:only-of-type {\n",
       "        vertical-align: middle;\n",
       "    }\n",
       "\n",
       "    .dataframe tbody tr th {\n",
       "        vertical-align: top;\n",
       "    }\n",
       "\n",
       "    .dataframe thead th {\n",
       "        text-align: right;\n",
       "    }\n",
       "</style>\n",
       "<table border=\"1\" class=\"dataframe\">\n",
       "  <thead>\n",
       "    <tr style=\"text-align: right;\">\n",
       "      <th></th>\n",
       "      <th>Neighborhood</th>\n",
       "      <th>Traffic Rank</th>\n",
       "      <th>Walk Score Rank</th>\n",
       "      <th>Non-Traffic Citation Rank</th>\n",
       "    </tr>\n",
       "  </thead>\n",
       "  <tbody>\n",
       "    <tr>\n",
       "      <th>35</th>\n",
       "      <td>New Homestead</td>\n",
       "      <td>6</td>\n",
       "      <td>66</td>\n",
       "      <td>3</td>\n",
       "    </tr>\n",
       "    <tr>\n",
       "      <th>12</th>\n",
       "      <td>Chartiers City</td>\n",
       "      <td>35</td>\n",
       "      <td>85</td>\n",
       "      <td>7</td>\n",
       "    </tr>\n",
       "    <tr>\n",
       "      <th>53</th>\n",
       "      <td>Summer Hill</td>\n",
       "      <td>8</td>\n",
       "      <td>90</td>\n",
       "      <td>8</td>\n",
       "    </tr>\n",
       "    <tr>\n",
       "      <th>48</th>\n",
       "      <td>Spring Garden</td>\n",
       "      <td>11</td>\n",
       "      <td>50</td>\n",
       "      <td>9</td>\n",
       "    </tr>\n",
       "    <tr>\n",
       "      <th>14</th>\n",
       "      <td>Duquesne Heights</td>\n",
       "      <td>57</td>\n",
       "      <td>72</td>\n",
       "      <td>10</td>\n",
       "    </tr>\n",
       "    <tr>\n",
       "      <th>51</th>\n",
       "      <td>Stanton Heights</td>\n",
       "      <td>50</td>\n",
       "      <td>78</td>\n",
       "      <td>12</td>\n",
       "    </tr>\n",
       "    <tr>\n",
       "      <th>57</th>\n",
       "      <td>Windgap</td>\n",
       "      <td>16</td>\n",
       "      <td>87</td>\n",
       "      <td>14</td>\n",
       "    </tr>\n",
       "    <tr>\n",
       "      <th>28</th>\n",
       "      <td>Lincoln Place</td>\n",
       "      <td>2</td>\n",
       "      <td>88</td>\n",
       "      <td>15</td>\n",
       "    </tr>\n",
       "    <tr>\n",
       "      <th>23</th>\n",
       "      <td>Highland Park</td>\n",
       "      <td>17</td>\n",
       "      <td>52</td>\n",
       "      <td>16</td>\n",
       "    </tr>\n",
       "    <tr>\n",
       "      <th>56</th>\n",
       "      <td>Westwood</td>\n",
       "      <td>59</td>\n",
       "      <td>49</td>\n",
       "      <td>17</td>\n",
       "    </tr>\n",
       "  </tbody>\n",
       "</table>\n",
       "</div>"
      ],
      "text/plain": [
       "        Neighborhood Traffic Rank Walk Score Rank Non-Traffic Citation Rank\n",
       "35     New Homestead            6              66                         3\n",
       "12    Chartiers City           35              85                         7\n",
       "53       Summer Hill            8              90                         8\n",
       "48     Spring Garden           11              50                         9\n",
       "14  Duquesne Heights           57              72                        10\n",
       "51   Stanton Heights           50              78                        12\n",
       "57           Windgap           16              87                        14\n",
       "28     Lincoln Place            2              88                        15\n",
       "23     Highland Park           17              52                        16\n",
       "56          Westwood           59              49                        17"
      ]
     },
     "execution_count": 156,
     "metadata": {},
     "output_type": "execute_result"
    }
   ],
   "source": [
    "nRank = 1\n",
    "for index, row in merged_reverse.iterrows():\n",
    "    CM.loc[CM[\"Neighborhood\"]==row['Neighborhood'], \"Non-Traffic Citation Rank\"] = nRank\n",
    "    nRank += 1\n",
    "CM.sort_values(\"Non-Traffic Citation Rank\").head(10)"
   ]
  },
  {
   "cell_type": "markdown",
   "metadata": {},
   "source": [
    "There is an immediate problem with our final dataset - some neighborhoods just don't have some data. Unfortunately, the datasets all covered different amounts of pittsburgh neighborhoods, so lets just filter out the ones that are missing any values. We could just set missing values to zero, or some extremely large number, but those wouldn't be real representations of their sub-metrics, and so we chose to remove them entirely."
   ]
  },
  {
   "cell_type": "code",
   "execution_count": 155,
   "metadata": {},
   "outputs": [],
   "source": [
    "CM = CM.dropna().reset_index(drop=True)\n",
    "#drops any row with NaN (missing value)"
   ]
  },
  {
   "cell_type": "markdown",
   "metadata": {},
   "source": [
    "The easiest way to see which neighborhood is the best for jaywalking, is to see which neighborhood as the lowest average rank. Heres the thing though - because we know the formula for calculating the average will always be \n",
    "\n",
    "**total score/#ranks**\n",
    "\n",
    "we can just skip dividing by the #ranks because it will be the same for all of them. In this case, we can just pick the neighborhood with the *lowest* total. Lets make the new column from the old ones, and then sort the dataframe by that column in ascending order. "
   ]
  },
  {
   "cell_type": "code",
   "execution_count": 163,
   "metadata": {},
   "outputs": [
    {
     "data": {
      "text/html": [
       "<div>\n",
       "<style scoped>\n",
       "    .dataframe tbody tr th:only-of-type {\n",
       "        vertical-align: middle;\n",
       "    }\n",
       "\n",
       "    .dataframe tbody tr th {\n",
       "        vertical-align: top;\n",
       "    }\n",
       "\n",
       "    .dataframe thead th {\n",
       "        text-align: right;\n",
       "    }\n",
       "</style>\n",
       "<table border=\"1\" class=\"dataframe\">\n",
       "  <thead>\n",
       "    <tr style=\"text-align: right;\">\n",
       "      <th></th>\n",
       "      <th>Neighborhood</th>\n",
       "      <th>Traffic Rank</th>\n",
       "      <th>Walk Score Rank</th>\n",
       "      <th>Non-Traffic Citation Rank</th>\n",
       "      <th>Total Score</th>\n",
       "    </tr>\n",
       "  </thead>\n",
       "  <tbody>\n",
       "    <tr>\n",
       "      <th>1</th>\n",
       "      <td>Allegheny West</td>\n",
       "      <td>5</td>\n",
       "      <td>5</td>\n",
       "      <td>36</td>\n",
       "      <td>46</td>\n",
       "    </tr>\n",
       "    <tr>\n",
       "      <th>30</th>\n",
       "      <td>Lower Lawrenceville</td>\n",
       "      <td>19</td>\n",
       "      <td>2</td>\n",
       "      <td>26</td>\n",
       "      <td>47</td>\n",
       "    </tr>\n",
       "    <tr>\n",
       "      <th>54</th>\n",
       "      <td>Upper Hill</td>\n",
       "      <td>9</td>\n",
       "      <td>20</td>\n",
       "      <td>29</td>\n",
       "      <td>58</td>\n",
       "    </tr>\n",
       "    <tr>\n",
       "      <th>42</th>\n",
       "      <td>Polish Hill</td>\n",
       "      <td>37</td>\n",
       "      <td>3</td>\n",
       "      <td>25</td>\n",
       "      <td>65</td>\n",
       "    </tr>\n",
       "    <tr>\n",
       "      <th>48</th>\n",
       "      <td>Spring Garden</td>\n",
       "      <td>11</td>\n",
       "      <td>50</td>\n",
       "      <td>9</td>\n",
       "      <td>70</td>\n",
       "    </tr>\n",
       "    <tr>\n",
       "      <th>35</th>\n",
       "      <td>New Homestead</td>\n",
       "      <td>6</td>\n",
       "      <td>66</td>\n",
       "      <td>3</td>\n",
       "      <td>75</td>\n",
       "    </tr>\n",
       "    <tr>\n",
       "      <th>23</th>\n",
       "      <td>Highland Park</td>\n",
       "      <td>17</td>\n",
       "      <td>52</td>\n",
       "      <td>16</td>\n",
       "      <td>85</td>\n",
       "    </tr>\n",
       "    <tr>\n",
       "      <th>19</th>\n",
       "      <td>Fineview</td>\n",
       "      <td>4</td>\n",
       "      <td>37</td>\n",
       "      <td>44</td>\n",
       "      <td>85</td>\n",
       "    </tr>\n",
       "    <tr>\n",
       "      <th>38</th>\n",
       "      <td>Overbrook</td>\n",
       "      <td>7</td>\n",
       "      <td>54</td>\n",
       "      <td>24</td>\n",
       "      <td>85</td>\n",
       "    </tr>\n",
       "    <tr>\n",
       "      <th>20</th>\n",
       "      <td>Friendship</td>\n",
       "      <td>33</td>\n",
       "      <td>8</td>\n",
       "      <td>46</td>\n",
       "      <td>87</td>\n",
       "    </tr>\n",
       "  </tbody>\n",
       "</table>\n",
       "</div>"
      ],
      "text/plain": [
       "           Neighborhood Traffic Rank Walk Score Rank  \\\n",
       "1        Allegheny West            5               5   \n",
       "30  Lower Lawrenceville           19               2   \n",
       "54           Upper Hill            9              20   \n",
       "42          Polish Hill           37               3   \n",
       "48        Spring Garden           11              50   \n",
       "35        New Homestead            6              66   \n",
       "23        Highland Park           17              52   \n",
       "19             Fineview            4              37   \n",
       "38            Overbrook            7              54   \n",
       "20           Friendship           33               8   \n",
       "\n",
       "   Non-Traffic Citation Rank Total Score  \n",
       "1                         36          46  \n",
       "30                        26          47  \n",
       "54                        29          58  \n",
       "42                        25          65  \n",
       "48                         9          70  \n",
       "35                         3          75  \n",
       "23                        16          85  \n",
       "19                        44          85  \n",
       "38                        24          85  \n",
       "20                        46          87  "
      ]
     },
     "execution_count": 163,
     "metadata": {},
     "output_type": "execute_result"
    }
   ],
   "source": [
    "CM[\"Total Score\"] = CM[\"Traffic Rank\"] + CM[\"Walk Score Rank\"] + CM[\"Non-Traffic Citation Rank\"]\n",
    "CM.sort_values(\"Total Score\").head(10)"
   ]
  },
  {
   "cell_type": "markdown",
   "metadata": {},
   "source": [
    "# Boom! Allegheny West Wins!\n",
    "\n",
    "## Our Concluding Thoughts - \n",
    "\n",
    "\n",
    "### Cole:\n",
    "\n",
    "I'm not entirely surprised with this result. I could tell from the first two rankings that Allegheny west would take an early lead over just about any other neighborhood in the city. In addition to this, its location on the north side right next to the rivers places it in prime walking territory for getting around town. I come from an area where you need to drive everywhere you go. I cannot get anything without hopping in the car for atleast ten minutes. This is another reason I am not surprised with the winner being an inner-city neighborhood. If the datasets were more complete, I'd be curious to see how downtown pittsburgh stands against allegheney west, as it ranked #1 in the walkability score dataset. "
   ]
  },
  {
   "cell_type": "markdown",
   "metadata": {},
   "source": []
  }
 ],
 "metadata": {
  "kernelspec": {
   "display_name": "Python 3",
   "language": "python",
   "name": "python3"
  },
  "language_info": {
   "codemirror_mode": {
    "name": "ipython",
    "version": 3
   },
   "file_extension": ".py",
   "mimetype": "text/x-python",
   "name": "python",
   "nbconvert_exporter": "python",
   "pygments_lexer": "ipython3",
   "version": "3.8.3"
  }
 },
 "nbformat": 4,
 "nbformat_minor": 4
}
